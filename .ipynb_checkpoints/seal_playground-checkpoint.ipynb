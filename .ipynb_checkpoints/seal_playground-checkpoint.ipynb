{
 "cells": [
  {
   "cell_type": "code",
   "execution_count": 3,
   "metadata": {},
   "outputs": [],
   "source": [
    "import argparse\n",
    "import time\n",
    "import os, sys\n",
    "import os.path as osp\n",
    "from shutil import copy\n",
    "import copy as cp\n",
    "from tqdm import tqdm\n",
    "import pdb\n",
    "\n",
    "import numpy as np\n",
    "from sklearn.metrics import roc_auc_score\n",
    "import scipy.sparse as ssp\n",
    "import torch\n",
    "from torch.nn import BCEWithLogitsLoss\n",
    "from torch.utils.data import DataLoader\n",
    "\n",
    "from torch_sparse import coalesce\n",
    "import torch_geometric.transforms as T\n",
    "from torch_geometric.datasets import Planetoid\n",
    "from torch_geometric.data import Data, Dataset, InMemoryDataset, DataLoader\n",
    "from torch_geometric.utils import to_networkx, to_undirected\n",
    "\n",
    "from ogb.linkproppred import PygLinkPropPredDataset, Evaluator\n",
    "\n",
    "from helpers import SEALDataset\n",
    "\n",
    "from utils import *\n",
    "from models import *"
   ]
  },
  {
   "cell_type": "code",
   "execution_count": 4,
   "metadata": {},
   "outputs": [],
   "source": [
    "dataset = PygLinkPropPredDataset(name='ogbl-collab')\n",
    "# splits the dataset into train, valid, test\n",
    "split_edge = dataset.get_edge_split()\n",
    "data = dataset[0]"
   ]
  },
  {
   "cell_type": "code",
   "execution_count": 7,
   "metadata": {},
   "outputs": [
    {
     "data": {
      "text/plain": [
       "'dataset/ogbl_collab'"
      ]
     },
     "execution_count": 7,
     "metadata": {},
     "output_type": "execute_result"
    }
   ],
   "source": [
    "dataset.root"
   ]
  },
  {
   "cell_type": "code",
   "execution_count": 5,
   "metadata": {},
   "outputs": [],
   "source": [
    "# the indices of the pos & neg val/test edges\n",
    "pos_val_edge, neg_val_edge = get_pos_neg_edges('valid', split_edge, \n",
    "                                                   data.edge_index, \n",
    "                                                   data.num_nodes)\n",
    "pos_test_edge, neg_test_edge = get_pos_neg_edges('test', split_edge, \n",
    "                                                     data.edge_index, \n",
    "                                                     data.num_nodes)"
   ]
  },
  {
   "cell_type": "code",
   "execution_count": null,
   "metadata": {},
   "outputs": [],
   "source": [
    "# constants\n",
    "PATH = dataset.root + '_seal{}'.format('')\n",
    "NUM_HOPS = 1\n",
    "VAL_PERCENT = 100\n",
    "USE_COALESCE = True\n",
    "NODE_LABEL = 'drnl'\n",
    "RATIO_PER_HOP = 1.0\n",
    "MAX_PER_HOP = None\n",
    "DIRECTED = False"
   ]
  },
  {
   "cell_type": "code",
   "execution_count": 9,
   "metadata": {},
   "outputs": [
    {
     "data": {
      "text/plain": [
       "tensor([[207097,  22267,  80185,  ...,  14221, 196117,  12604],\n",
       "        [101712,  68958, 201524,  ..., 143446, 122040, 231049]])"
      ]
     },
     "execution_count": 9,
     "metadata": {},
     "output_type": "execute_result"
    }
   ],
   "source": [
    "val_dataset = eval('SEALDataset')(\n",
    "    PATH, \n",
    "    data, \n",
    "    split_edge, \n",
    "    num_hops=NUM_HOPS, \n",
    "    percent=VAL_PERCENT, \n",
    "    split='valid', \n",
    "    use_coalesce= USE_COALESCE, \n",
    "    node_label= NODE_LABEL, \n",
    "    ratio_per_hop=RATIO_PER_HOP, \n",
    "    max_nodes_per_hop=MAX_PER_HOP, \n",
    "    directed=DIRECTED, \n",
    ")"
   ]
  },
  {
   "cell_type": "code",
   "execution_count": null,
   "metadata": {},
   "outputs": [],
   "source": []
  }
 ],
 "metadata": {
  "kernelspec": {
   "display_name": "Python (simple-graph)",
   "language": "python",
   "name": "simple-graph"
  },
  "language_info": {
   "codemirror_mode": {
    "name": "ipython",
    "version": 3
   },
   "file_extension": ".py",
   "mimetype": "text/x-python",
   "name": "python",
   "nbconvert_exporter": "python",
   "pygments_lexer": "ipython3",
   "version": "3.8.5"
  }
 },
 "nbformat": 4,
 "nbformat_minor": 4
}
